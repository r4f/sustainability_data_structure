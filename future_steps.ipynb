{
 "cells": [
  {
   "cell_type": "code",
   "execution_count": null,
   "metadata": {},
   "outputs": [],
   "source": [
    "# CRA\n",
    "sus_data_ = esg_data_.aggregate([\n",
    "    {\n",
    "        \"$match\": {\n",
    "            \"isin\": {\"$in\": isins},\n",
    "            \"date\": {\"$gte\": pd.Timestamp(\"2023-01-01\")},\n",
    "        }\n",
    "    },\n",
    "    {\"$replaceRoot\": {\"newRoot\": \"$imug.controversy_risk_assessment\"}},\n",
    "    {\"$unwind\": \"$criteria\"},\n",
    "    {\n",
    "        \"$addFields\": {\n",
    "            \"criteria_code\": \"$criteria.code\",\n",
    "            \"ccriteria_code\": \"$criteria.criteria.code\",\n",
    "            \"ccriteria_imug_rating_str\": \"$criteria.criteria.imug_rating_str\",\n",
    "            \"ccriteria_incorporation_scale_lower\": \"$criteria.criteria.incorporation_scale_lower\",\n",
    "        }\n",
    "    },\n",
    "])\n",
    "pd.DataFrame(sus_data_)#[\"criteria\"][0]#.columns"
   ]
  }
 ],
 "metadata": {
  "language_info": {
   "name": "python"
  }
 },
 "nbformat": 4,
 "nbformat_minor": 2
}
